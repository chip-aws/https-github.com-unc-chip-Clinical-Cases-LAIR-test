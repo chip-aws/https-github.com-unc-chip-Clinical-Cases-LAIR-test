{
 "cells": [
  {
   "cell_type": "markdown",
   "metadata": {},
   "source": [
    "# Introduction"
   ]
  },
  {
   "cell_type": "markdown",
   "metadata": {},
   "source": [
    "Welcome to the Introduction to Programming model, we will go through the most common Python related contents, including syntax, comments, variables, for loop and while loop. You will have a chance to practice on this interactive notebook."
   ]
  },
  {
   "cell_type": "markdown",
   "metadata": {
    "heading_collapsed": true
   },
   "source": [
    "# How to Run the Module"
   ]
  },
  {
   "cell_type": "markdown",
   "metadata": {
    "hidden": true
   },
   "source": [
    "Throughout this module you will encounter both text and code cells. Please run each cell in this Notebook by clicking \"Run\" button in the Toolbar or by pushing Shift+Enter keys\n",
    "<br>\n",
    "![run_cell.png](attachment:run_cell.png)"
   ]
  },
  {
   "cell_type": "markdown",
   "metadata": {
    "hidden": true
   },
   "source": [
    "The cell below is an example of a code cell. You will be running numerous code cells like the one below throughout the case. Select the cell and select the run button above. "
   ]
  },
  {
   "cell_type": "code",
   "execution_count": null,
   "metadata": {
    "hidden": true
   },
   "outputs": [],
   "source": [
    "# This is an example of a code cell\n",
    "print('Congratulations!')\n",
    "print('You\\'ve run your first code cell.')"
   ]
  },
  {
   "cell_type": "markdown",
   "metadata": {
    "heading_collapsed": true,
    "hidden": true
   },
   "source": [
    "## Introduction Video"
   ]
  },
  {
   "cell_type": "markdown",
   "metadata": {
    "hidden": true
   },
   "source": [
    "Please run the code cell below to reveal the introduction video."
   ]
  },
  {
   "cell_type": "code",
   "execution_count": null,
   "metadata": {
    "hidden": true
   },
   "outputs": [],
   "source": [
    "# Set Up\n",
    "import warnings\n",
    "warnings.filterwarnings('ignore')\n",
    "%matplotlib inline\n",
    "from IPython.display import HTML\n",
    "\n",
    "# Display Video\n",
    "HTML('<iframe width=\"705\" height=\"537\" src=\"https://edpuzzle.com/embed/media/5ec42a899daeb23eef0db888\" frameborder=\"0\" allowfullscreen></iframe>')"
   ]
  },
  {
   "cell_type": "markdown",
   "metadata": {},
   "source": [
    "# What is Programming?"
   ]
  },
  {
   "cell_type": "markdown",
   "metadata": {},
   "source": [
    "Let's start with understanding what is programming, \"Programming is the act of instructing computers to tasks -- Coding\".\n",
    "\n",
    "Then what is computer programming. It refers to a sequence of instructions that instruct computer what to do. However, machines don't speak complex language as we human do, they have their own natural language, which is binary code: 1(on) and 0(off). It would be hard for us to communicate everything with computer in binary. There we come the programming language - more structured and readable language that communicates with computer. \n",
    "\n",
    "There are many popular programming languages on different development environments, For example, we have JavaScript in front-end web development, Python in back-end development, Swift in mobile development etc,. \n",
    "\n",
    "In this model context, we will use Python as our demo language to present the examples. "
   ]
  },
  {
   "cell_type": "markdown",
   "metadata": {
    "heading_collapsed": true
   },
   "source": [
    "## Syntax, Comments and Variables"
   ]
  },
  {
   "cell_type": "markdown",
   "metadata": {
    "hidden": true
   },
   "source": [
    "**Syntax** are rules that are applicable in programming languages.\n",
    "\n",
    "![python syntax](https://techvidvan.com/tutorials/wp-content/uploads/sites/2/2019/12/python-syntax-2-.jpg)"
   ]
  },
  {
   "cell_type": "markdown",
   "metadata": {
    "hidden": true
   },
   "source": [
    "**Comments** "
   ]
  },
  {
   "cell_type": "markdown",
   "metadata": {
    "hidden": true
   },
   "source": [
    "To better communicate among programmers, comments are descriptions that explain code - starts with a **#**."
   ]
  },
  {
   "cell_type": "code",
   "execution_count": null,
   "metadata": {
    "hidden": true
   },
   "outputs": [],
   "source": [
    "# You can write anything you want in the comments.\n",
    "# It won't be excuted.\n",
    "# You can also use comment as an assistant for blocking a line/lines of code that you don't \n",
    "# want to run."
   ]
  },
  {
   "cell_type": "markdown",
   "metadata": {
    "hidden": true
   },
   "source": [
    "**Variables** are used to store data values."
   ]
  },
  {
   "cell_type": "code",
   "execution_count": null,
   "metadata": {
    "hidden": true
   },
   "outputs": [],
   "source": [
    "# In Python, you don't have to declear a variable\n",
    "# A variable is created when you assign value to it\n",
    "# For example\n",
    "\n",
    "x = 6 # store number '6' in the variable x\n",
    "name = \"John\" # store string \"John\" in the variable name\n",
    "print(x) # Output:6\n",
    "print(name) # Output:John"
   ]
  },
  {
   "cell_type": "code",
   "execution_count": null,
   "metadata": {
    "hidden": true
   },
   "outputs": [],
   "source": [
    "# You can also change the value of a variable after you created it\n",
    "x = 116 # store number '116' in the variable x\n",
    "print(x) # Output:116"
   ]
  },
  {
   "cell_type": "markdown",
   "metadata": {},
   "source": [
    "## Data types"
   ]
  },
  {
   "cell_type": "markdown",
   "metadata": {},
   "source": [
    "Different data can be stored in specific data type. It's optional in Python to specify the data type for a newly created variable."
   ]
  },
  {
   "cell_type": "markdown",
   "metadata": {},
   "source": [
    "### Common data types (Text, Number, Boolean)"
   ]
  },
  {
   "cell_type": "code",
   "execution_count": null,
   "metadata": {},
   "outputs": [],
   "source": [
    "# Text type: str (note that 'String' is the same as \"String\")\n",
    "x = \"String\" # can also be represented as x = str(\"String\")"
   ]
  },
  {
   "cell_type": "code",
   "execution_count": null,
   "metadata": {},
   "outputs": [],
   "source": [
    "# Three numeric types: int, float, complex\n",
    "x1 = 10 # can also be represented as x1 = int(10)\n",
    "x2 = 0.032 # can also be represented as x2 = float(0.032)\n",
    "x3 = 2+5j # can also be represented as x3 = complex(2, 5)\n",
    "print(x1)\n",
    "print(x2)\n",
    "print(x3)"
   ]
  },
  {
   "cell_type": "code",
   "execution_count": null,
   "metadata": {},
   "outputs": [],
   "source": [
    "# Boolean type: bool\n",
    "b1 = True\n",
    "b2 = False\n",
    "z = bool(1) # any non-zero value will return True\n",
    "z1 = bool(0) # zero will return False\n",
    "print(\"Num:\", z)\n",
    "print(\"Num:\", z1)\n",
    "\n",
    "s = bool(\"apple\") # any non-empty string will return True\n",
    "s1 = bool(\"\") # empty string will return False\n",
    "print(\"Str:\",s)\n",
    "print(\"Str:\",s1)\n",
    "\n",
    "# You can also use boolean to compare values\n",
    "print(\"Compare:\",1 > 2)\n",
    "print(\"Compare:\",11 == 1)\n",
    "print(\"Compare:\",4 < 14)"
   ]
  },
  {
   "cell_type": "code",
   "execution_count": null,
   "metadata": {
    "solution2": "hidden"
   },
   "outputs": [],
   "source": [
    "first_name = \"John\"\n",
    "last_name = \"dow\"\n",
    "age = 43\n",
    "location = \"New York\""
   ]
  },
  {
   "cell_type": "markdown",
   "metadata": {},
   "source": [
    "### Data types - store collections of data (List, Tuple, Set, and Dictionary)"
   ]
  },
  {
   "cell_type": "markdown",
   "metadata": {},
   "source": [
    "List: use square brackets to enclose the datasets\n",
    "\n",
    "Chracteristics:\n",
    "1. ordered (for indexing list, the number starts from 0, see example below)\n",
    "2. changeable (add, remove items after created)\n",
    "3. allow duplicate\n",
    "\n",
    "More flexible in comparing with the Tuple and Set."
   ]
  },
  {
   "cell_type": "code",
   "execution_count": null,
   "metadata": {},
   "outputs": [],
   "source": [
    "# List: use square brackets to enclose the datasets\n",
    "t_list = [\"apple\", \"banana\", \"orange\"]\n",
    "print(t_list) # print the entire list\n",
    "print(t_list[0]) # print the first item in the list\n",
    "\n",
    "# Python has build-in functions to change list\n",
    "t_list.append(\"pineapple\") # append(item) - add item to the end of the list\n",
    "print(f'Current List{t_list}')\n",
    "t_list.insert(1,\"pear\") # insert(index, item) - add item to specific index in the list\n",
    "print(f'Current List{t_list}')\n",
    "t_list.extend([1,2]) # you can also append another list at the end\n",
    "print(f'Current List{t_list}')\n",
    "n_list = [3, 3]\n",
    "t_list += n_list # similar to extend(). It means concatenate another list to current list.\n",
    "print(f'Current List{t_list}')"
   ]
  },
  {
   "cell_type": "markdown",
   "metadata": {},
   "source": [
    "**Tuple: use round brackets to enclose the datasets**\n",
    "    \n",
    "Characteristics:\n",
    "1. ordered (similar to list that index from 0)\n",
    "2. unchangeable\n",
    "3. allow duplicates"
   ]
  },
  {
   "cell_type": "code",
   "execution_count": null,
   "metadata": {},
   "outputs": [],
   "source": [
    "t_tuple = (\"apple\", \"banana\", \"orange\")\n",
    "print(t_tuple)\n",
    "\n",
    "# Examples of two build-in functions\n",
    "s = (\"a\", \"b\", \"o\", \"r\", \"b\")\n",
    "x = s.count(\"b\") # count number of occurances for a specified value\n",
    "index = s.index(\"r\") # return the position of an item\n",
    "print(x)\n",
    "print(index)"
   ]
  },
  {
   "cell_type": "markdown",
   "metadata": {},
   "source": [
    "**Set: use curly brackets to enclose the datasets**\n",
    "    \n",
    "Characteristics:\n",
    "1. unordered\n",
    "2. unchangeable\n",
    "3. doesn't allow duplicates"
   ]
  },
  {
   "cell_type": "code",
   "execution_count": null,
   "metadata": {},
   "outputs": [],
   "source": [
    "t_set = {\"apple\", \"banana\", \"orange\"}\n",
    "print(t_set)\n",
    "\n",
    "# Some build-in functions for set \n",
    "t_set.add(\"cherry\") # add new items\n",
    "t_set.remove(\"apple\") # remove an items\n",
    "print(t_set)"
   ]
  },
  {
   "cell_type": "markdown",
   "metadata": {},
   "source": [
    "**Dictionary: use curly brackets to enclose the datasets, and have keys and values**\n",
    "    \n",
    "Characteristics:\n",
    "1. order or not (depend on Python version)\n",
    "2. changeable\n",
    "3. doesn't allow duplicates\n",
    "\n",
    "Simply refer the key name and you will get the value term."
   ]
  },
  {
   "cell_type": "code",
   "execution_count": null,
   "metadata": {},
   "outputs": [],
   "source": [
    "# Declear name and age for a person\n",
    "t_dict = {\n",
    "    \"First_name\": \"James\",\n",
    "    \"Last_name\": \"Jonson\",\n",
    "    \"Age\": 45\n",
    "}\n",
    "print(t_dict[\"First_name\"]) # use square brackets to specify key name\n",
    "print(t_dict[\"Age\"])\n",
    "\n",
    "t_dict[\"Last_name\"] = \"Dow\" # update value for a key\n",
    "print(t_dict)"
   ]
  },
  {
   "cell_type": "markdown",
   "metadata": {},
   "source": [
    "## Conditional statements (if...else)"
   ]
  },
  {
   "cell_type": "markdown",
   "metadata": {},
   "source": [
    "Python supports the basic logical conditions:\n",
    "1. Equals: a == b\n",
    "2. Not equal: a != b\n",
    "3. Less than: a < b\n",
    "4. Greater than: a > b\n",
    "5. less than or equal to: a <= b\n",
    "6. Greater than or equal to: a >= b"
   ]
  },
  {
   "cell_type": "code",
   "execution_count": null,
   "metadata": {},
   "outputs": [],
   "source": [
    "# Simple example that comparing two numbers\n",
    "a = 10\n",
    "b = 800\n",
    "if a > b:\n",
    "    print(\"Greater than\")\n",
    "elif a == b:\n",
    "    print(\"Equal to\")\n",
    "else:\n",
    "    print(\"Less than\")"
   ]
  },
  {
   "cell_type": "markdown",
   "metadata": {},
   "source": [
    "## For & While loop"
   ]
  },
  {
   "cell_type": "markdown",
   "metadata": {},
   "source": [
    "**For loop**"
   ]
  },
  {
   "cell_type": "markdown",
   "metadata": {},
   "source": [
    "Used to iterating over a sequence, like list, set."
   ]
  },
  {
   "cell_type": "code",
   "execution_count": null,
   "metadata": {},
   "outputs": [],
   "source": [
    "# Simply iterate through numbers in range 0-10\n",
    "for x in range(10):\n",
    "    print(x)"
   ]
  },
  {
   "cell_type": "code",
   "execution_count": null,
   "metadata": {},
   "outputs": [],
   "source": [
    "# Iterate items from the list we have created before\n",
    "# Combining for loop and if statement\n",
    "for x in t_list:\n",
    "    if x == \"pear\": # print the item only if current item is \"pear\"\n",
    "        print(x)\n",
    "    elif x == 3: # break out the for loop if current item is number \"3\"\n",
    "        break \n",
    "    else:        # do nothing\n",
    "        continue"
   ]
  },
  {
   "cell_type": "markdown",
   "metadata": {},
   "source": [
    "**While loop**"
   ]
  },
  {
   "cell_type": "markdown",
   "metadata": {},
   "source": [
    "Similar to for loop but may have to specify the condition outside the loop"
   ]
  },
  {
   "cell_type": "code",
   "execution_count": null,
   "metadata": {},
   "outputs": [],
   "source": [
    "# Iterate through numbers\n",
    "i = 5\n",
    "while i > 0:\n",
    "    print(i)\n",
    "    i -= 1 # equally saying i = i -1"
   ]
  },
  {
   "cell_type": "markdown",
   "metadata": {},
   "source": [
    "## Function"
   ]
  },
  {
   "cell_type": "markdown",
   "metadata": {},
   "source": [
    "Represted as a block of code that only runs when it is called. You can also pass value as parameters into function. A function will return data as a result. The keyword 'def' works as the header of the function.\n",
    "\n",
    "There are many build-in functions in python. Go to [documentations](https://docs.python.org/3/library/functions.html) to get more tutorials and examples."
   ]
  },
  {
   "cell_type": "code",
   "execution_count": null,
   "metadata": {},
   "outputs": [],
   "source": [
    "# Simply calculate square of a value\n",
    "def my_function(x):\n",
    "    y = x ** 2\n",
    "    print(y)\n",
    "    \n",
    "my_function(4)"
   ]
  },
  {
   "cell_type": "code",
   "execution_count": null,
   "metadata": {},
   "outputs": [],
   "source": [
    "# Calculate values given the function: y = ax+bx^2\n",
    "def my_func(a, b):\n",
    "    for x in range(5):\n",
    "        y = a*x+b*x**2\n",
    "        if y > 3:\n",
    "            print(y)\n",
    "        else:\n",
    "            print(\"Value too small\")\n",
    "\n",
    "my_func(2, 1)"
   ]
  },
  {
   "cell_type": "code",
   "execution_count": null,
   "metadata": {},
   "outputs": [],
   "source": []
  },
  {
   "cell_type": "markdown",
   "metadata": {},
   "source": [
    "# Exercise"
   ]
  },
  {
   "cell_type": "markdown",
   "metadata": {
    "solution2": "hidden",
    "solution2_first": true
   },
   "source": [
    "**Warning**  \n",
    "<font color = blue, size = 4> \n",
    "    Your work will not be saved in Jupyter Notebook. You are recommended to copy your work and paste it to a safe place to record your work.\n",
    "<font>"
   ]
  },
  {
   "cell_type": "markdown",
   "metadata": {},
   "source": [
    "1. Write a Python function to sum all the numbers in a lise. Define your function name as sum(list) and parameter as a list. Test your result using an input tuple - (3,6,9,18,22)"
   ]
  },
  {
   "cell_type": "code",
   "execution_count": null,
   "metadata": {
    "solution2": "hidden",
    "solution2_first": true
   },
   "outputs": [],
   "source": [
    "# Write your code here"
   ]
  },
  {
   "cell_type": "code",
   "execution_count": 20,
   "metadata": {
    "solution2": "hidden"
   },
   "outputs": [
    {
     "name": "stdout",
     "output_type": "stream",
     "text": [
      "58\n"
     ]
    }
   ],
   "source": [
    "def sum (x):\n",
    "    total = 0\n",
    "    for i in x:\n",
    "        total += i\n",
    "    return total\n",
    "\n",
    "# test out the function\n",
    "print(sum((3,6,9,18,22)))"
   ]
  },
  {
   "cell_type": "markdown",
   "metadata": {},
   "source": [
    "2. Write a Python function to reverse a string. Define your function name as string_re() and parameter as an input string. Test your result using an input string abcd1234"
   ]
  },
  {
   "cell_type": "code",
   "execution_count": null,
   "metadata": {
    "solution2": "hidden",
    "solution2_first": true
   },
   "outputs": [],
   "source": [
    "# Write your code here"
   ]
  },
  {
   "cell_type": "code",
   "execution_count": 25,
   "metadata": {
    "solution2": "hidden"
   },
   "outputs": [
    {
     "name": "stdout",
     "output_type": "stream",
     "text": [
      "4321dcba\n"
     ]
    }
   ],
   "source": [
    "def string_re(x):\n",
    "    sstr = ''\n",
    "    index = len(x)\n",
    "    while index > 0:\n",
    "        sstr += x[ index - 1 ]\n",
    "        index = index - 1\n",
    "    return sstr\n",
    "\n",
    "# test the result\n",
    "print(string_re('abcd1234'))"
   ]
  },
  {
   "cell_type": "markdown",
   "metadata": {},
   "source": [
    "3. Write a Python funciton to check a list and return the even number(s) in the list as another set. Define your function name as is_even() and parameter as a list. Test your result using an input list - [1,2,3,4,5,6,7,8,9]"
   ]
  },
  {
   "cell_type": "code",
   "execution_count": null,
   "metadata": {},
   "outputs": [],
   "source": [
    "# Write your code here"
   ]
  },
  {
   "cell_type": "code",
   "execution_count": null,
   "metadata": {},
   "outputs": [],
   "source": [
    "def is_even(x):\n",
    "    new_list = []\n",
    "    for i in x:\n",
    "        if i % 2 == 0:\n",
    "            new_list.append(i)\n",
    "    return new_list\n",
    "\n"
   ]
  }
 ],
 "metadata": {
  "kernelspec": {
   "display_name": "Python 3.7.7 64-bit",
   "language": "python",
   "name": "python37764bit090b0bad6ce4424eafa18c87e1c5f981"
  },
  "language_info": {
   "codemirror_mode": {
    "name": "ipython",
    "version": 3
   },
   "file_extension": ".py",
   "mimetype": "text/x-python",
   "name": "python",
   "nbconvert_exporter": "python",
   "pygments_lexer": "ipython3",
   "version": "3.7.7"
  }
 },
 "nbformat": 4,
 "nbformat_minor": 4
}
